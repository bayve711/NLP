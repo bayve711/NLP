{
 "cells": [
  {
   "cell_type": "markdown",
   "metadata": {},
   "source": [
    "Please fill out the information of your group!\n",
    "\n",
    "| <p style=\"text-align: center;\">First Name</p> | <p style=\"text-align: center;\">Family Name</p> | Matr.-No. |\n",
    "|-----------------------------------------|-----------------------------------------| --- |\n",
    "| <p style=\"text-align: left\">*Daniil*</p>     | <p style=\"text-align: left\">*Krechko*</p>     | *k12149099* |\n",
    "| <p style=\"text-align: left\">*Azat*</p> | <p style=\"text-align: left\">*Vakhitov*</p> | *k12148222* |\n",
    "\n"
   ]
  },
  {
   "cell_type": "markdown",
   "metadata": {},
   "source": [
    "<h2 style=\"text-align: center\">344.105/6/7 UE: Natural Language Processing (WS2023/24)</h2>\n",
    "<h1 style=\"color:rgb(0,120,170)\">Assignment 2</h1>\n",
    "<h2 style=\"color:rgb(0,120,170)\">Getting to Know Word Embedding!</h2>"
   ]
  },
  {
   "cell_type": "markdown",
   "metadata": {},
   "source": [
    "<b>Terms of Use</b><br>\n",
    "This  material is prepared for educational purposes at the Johannes Kepler University (JKU) Linz, and is exclusively provided to the registered students of the mentioned course at JKU. It is strictly forbidden to distribute the current file, the contents of the assignment, and its solution. The use or reproduction of this manuscript is only allowed for educational purposes in non-profit organizations, while in this case, the explicit prior acceptance of the author(s) is required.\n",
    "\n",
    "**Authors:** Shah Nawaz, Shahed Masoudian<br>\n"
   ]
  },
  {
   "cell_type": "markdown",
   "metadata": {},
   "source": [
    "<h2>Table of contents</h2>\n",
    "<ol>\n",
    "    <a href=\"#section-general-guidelines\"><li style=\"font-size:large;font-weight:bold\">General Guidelines</li></a>\n",
    "    <a href=\"#section-taskA\"><li style=\"font-size:large;font-weight:bold\">Task A: Words Similarity and Nearest Neighbors (15 points)</li></a>\n",
    "    <a href=\"#section-taskB\"><li style=\"font-size:large;font-weight:bold\">Task B: Document Classification with Word Embedding (15 points)</li></a>\n",
    "    <a href=\"#section-taskC\"><li style=\"font-size:large;font-weight:bold\">Task C: Classification with sent2vec Document Embeddings (2 extra point)</li></a>\n",
    "    <a href=\"#section-references\"><li style=\"font-size:large;font-weight:bold\">References</li></a>\n",
    "    \n",
    "</ol>"
   ]
  },
  {
   "cell_type": "markdown",
   "metadata": {},
   "source": [
    "<a name=\"section-general-guidelines\"></a><h2 style=\"color:rgb(0,120,170)\">General Guidelines</h2>"
   ]
  },
  {
   "cell_type": "markdown",
   "metadata": {},
   "source": [
    "### Assignment objective\n",
    "The aim of this assignment is to get familiarized with using word embedding (WE) models in practice. The assignment in total has **30 points**; it also offers **2 extra points** which can cover any missing point.\n",
    "\n",
    "This Notebook encompasses all aspects of the assignment, namely the descriptions of tasks as well as your solutions and reports. Feel free to add any required cell for solutions. The cells can contain code, reports, charts, tables, or any other material, required for the assignment. Feel free to provide the solutions in an interactive and visual way! \n",
    "\n",
    "Please discuss any unclear point in the assignment in the provided forum in MOODLE. It is also encouraged to provide answers to your peer's questions. However when submitting a post, keep in mind to avoid providing solutions. Please let the tutor(s) know shall you find any error or unclarity in the assignment.\n"
   ]
  },
  {
   "cell_type": "markdown",
   "metadata": {},
   "source": [
    "### Libraries & Dataset\n",
    "\n",
    "The assignment should be implemented with recent versions of `Python` (>3.7). Any standard Python library can be used, so far that the library is free and can be simply installed using `pip` or `conda`. Examples of potentially useful libraries are `scikit-learn`, `numpy`, `scipy`, `gensim`, `nltk`, `spaCy`, and `AllenNLP`. Use the latest stable version of each library.\n",
    "\n",
    "To conduct the experiments, we use a subset of the `HumSet` dataset [1] (https://blog.thedeep.io/humset/). `HumSet` is created by the DEEP (https://www.thedeep.io) project – an open source platform which aims to facilitate processing of textual data for international humanitarian response organizations. The platform enables the classification of text excerpts, extracted from news and reports into a set of domain specific classes. The provided dataset contains the classes (labels) referring to the humanitarian sectors like agriculture, health, and protection. The dataset contains an overall number of 17,301 data points. \n",
    "\n",
    "Download the dataset from the Moodle page of the course.\n",
    "\n",
    "the provided zip file consists of the following files:\n",
    "- `thedeep.subset.train.txt`: Train set in csv format with three fields: sentence_id, text, and label.\n",
    "- `thedeep.subset.validation.txt`: Validation set in csv format with three fields: sentence_id, text, and label.\n",
    "- `thedeep.subset.test.txt`: Test set in csv format with three fields: sentence_id, text, and label.\n",
    "- `thedeep.subset.label.txt`: Captions of the labels.\n",
    "- `thedeep.ToU.txt`: Terms of use of the dataset.\n",
    "\n",
    "[1] HumSet: Dataset of Multilingual Information Extraction and Classification for Humanitarian Crises Response\n",
    "*Selim Fekih, Nicolo' Tamagnone, Benjamin Minixhofer, Ranjan Shrestha, Ximena Contla, Ewan Oglethorpe and Navid Rekabsaz.* \n",
    "In Findings of the 2022 Conference on Empirical Methods in Natural Language Processing (Findings of EMNLP), December 2022.\n"
   ]
  },
  {
   "cell_type": "markdown",
   "metadata": {},
   "source": [
    "## Style \n",
    "\n",
    "- Please provide evidence at each state by giving print of the results, provide tables, graphs to further improve the quality of your report"
   ]
  },
  {
   "cell_type": "markdown",
   "metadata": {},
   "source": [
    "\n",
    "### Submission\n",
    "\n",
    "Each group should submit the following two files:\n",
    "\n",
    "- One Jupyter Notebook file (`.ipynb`), containing all the code, results, visualizations, etc. **In the submitted Notebook, all the results and visualizations should already be present, and can be observed simply by loading the Notebook in a browser.** The Notebook must be self-contained, meaning that (if necessary) one can run all the cells from top to bottom without any error. Do not forget to put in your names and student numbers in the first cell of the Notebook. \n",
    "- The HTML file (`.html`) achieved from exporting the Jupyter Notebook to HTML (Download As HTML).\n",
    "\n",
    "You do not need to include the data files in the submission.\n"
   ]
  },
  {
   "cell_type": "markdown",
   "metadata": {},
   "source": [
    "<a name=\"section-taskA\"></a><h2 style=\"color:rgb(0,120,170)\">Task A: Words Similarity and Nearest Neighbors (15 points)</h2>"
   ]
  },
  {
   "cell_type": "markdown",
   "metadata": {},
   "source": [
    "\n",
    "**Loading a word embedding (WE) model (1 points).** Download a pre-trained word embedding model such as word2vec (https://code.google.com/archive/p/word2vec/) or GloVe (https://nlp.stanford.edu/projects/glove/). You can load the downloaded vectors into arrays, or use libraries such as `gensim` to download and process the vectors. \n",
    "\n",
    "**Calculating word-to-word similarities (4 points).** Select <ins>5 arbitrary words</ins> from 5 different topics like objects, science disciplines, verbs, adjectives, animals, etc. Let us refer to these words as *source words*. For each source word, calculate its cosine similarities to <ins>6 target words</ins>. The target words of each source word are also selected by you and should cover various levels of semantic relations – according to your linguistic judgement – to the source word, namely from highly-related to not related at all. Organize the target words in tables, such that the target words of each source word are sorted from the highest to the lowest relevance (according to your judgement). Consider the following points:\n",
    "\n",
    "- **Implementation (2/4 points):** Implement cosine similarity as a function that takes two vectors and returns the similarity score. Implement cosine by yourself and do NOT use the provided functionalities of any library.\n",
    "- **Reporting and observations (2/4 points):** Report the calculated similarities side by side with your word-to-word semantic relevance judgements in tables. Compare the results and report your observations.  \n",
    "\n",
    "**Calculating nearest neighbors (10 points).** For the 5 source words, retrieve the $k=10$ nearest neighbors using the word embedding model, namely the words with the highest similarities to the source word. Consider the following points: \n",
    "    \n",
    "- **Overall implementation (3/10 points):** your implemented function takes a source vector, a set of target vectors, and the $k$ parameter, and returns the $k$ nearest neighbors and their similarity scores. Implement nearest neighbor calculation by yourself and do NOT use the provided functionalities of any library.\n",
    "- **Similarity metrics (2/10 points):** execute the calculation of nearest neighbors according to <ins>two similarity metrics</ins> namely cosine and dot product.\n",
    "- **Efficiency (3/10 points):** your nearest neighbor functions should provide an *efficient* calculation of nearest neighbors. An inefficient way (which should be avoided!) would be looping over the set of vectors in the word embedding model, and one by one calculating the cosine/dot product similarity of the source vector to each of the target vectors. As a hint for an efficient way, consider that in `numpy` (and other libraries), calculating the dot product of a vector to a matrix is much faster than the dot products of the vector to each vector of the matrix.\n",
    "- **Reporting and observations (2/10 points):** report the results in tables, which enable comparing between the outputs of the two similarity metrics. Which similarity metric would you prefer? Report your observations.\n",
    "\n",
    "</div>"
   ]
  },
  {
   "cell_type": "code",
   "metadata": {
    "ExecuteTime": {
     "end_time": "2024-12-07T20:46:05.522305Z",
     "start_time": "2024-12-07T20:45:57.167172Z"
    }
   },
   "source": [
    "# Import necessary libraries\n",
    "from gensim.models import KeyedVectors\n",
    "\n",
    "# Load the Word2Vec model\n",
    "model_path = \"/Users/bayve/Desktop/JKU/NLP/word2vec/GoogleNews-vectors-negative300.bin\" \n",
    "model = KeyedVectors.load_word2vec_format(model_path, binary=False)\n",
    "\n",
    "# Test the model\n",
    "#similar_words = model.most_similar('king', topn=5)\n",
    "#print(similar_words)"
   ],
   "outputs": [],
   "execution_count": 1
  },
  {
   "metadata": {
    "ExecuteTime": {
     "end_time": "2024-12-07T21:32:24.912021Z",
     "start_time": "2024-12-07T21:32:24.909346Z"
    }
   },
   "cell_type": "code",
   "source": [
    "import numpy as np\n",
    "word = model['cat']\n",
    "np.shape(word)\n",
    "word1 = model['cup']"
   ],
   "outputs": [],
   "execution_count": 18
  },
  {
   "cell_type": "code",
   "metadata": {
    "ExecuteTime": {
     "end_time": "2024-12-07T21:32:26.133548Z",
     "start_time": "2024-12-07T21:32:26.131215Z"
    }
   },
   "source": [
    "#Cosine similarity function\n",
    "import numpy as np\n",
    "def cosine_similarity(x, y):  #x, z - vectors\n",
    "    return np.dot(x, y) / (np.linalg.norm(x) * np.linalg.norm(y))\n",
    "\n",
    "#Test\n",
    "print(cosine_similarity(word, word1))"
   ],
   "outputs": [
    {
     "name": "stdout",
     "output_type": "stream",
     "text": [
      "0.12844744\n"
     ]
    }
   ],
   "execution_count": 19
  },
  {
   "metadata": {
    "ExecuteTime": {
     "end_time": "2024-12-07T21:10:21.704744Z",
     "start_time": "2024-12-07T21:09:18.714789Z"
    }
   },
   "cell_type": "code",
   "source": [
    "#Nearest neighbours\n",
    "def calculate_nearest_neighbours(source_vector, target_vectors, k, cosine: bool, dot: bool):\n",
    "\n",
    "    # Iterate over all words in the model's vocabulary\n",
    "    for word in model.index_to_key:  # `model.index_to_key` gives all words\n",
    "        target_vector = model[word]\n",
    "        \n",
    "        if cosine:\n",
    "            return sorted([(word, cosine_similarity(source_vector, model[word])) for word in model.index_to_key], \n",
    "                      key=lambda x: x[1], reverse=True)[:k]\n",
    "        elif dot:\n",
    "            return sorted([(word, np.dot(source_vector, model[word])) for word in model.index_to_key], \n",
    "                      key=lambda x: x[1], reverse=True)[:k]\n",
    "        else:\n",
    "            return \"Please choose a similarity metric\"\n",
    "        \n",
    "        \n",
    "        \n",
    "#Test\n",
    "#choose 5 random words from the model\n",
    "source_words = ['king', 'apple', 'run', 'blue', 'dog']\n",
    "target_vectors = [model[word] for word in source_words] \n",
    "# Cosine Similarity\n",
    "print('Cosine Similarity metrics') \n",
    "for word, source_vector in zip(source_words, target_vectors):\n",
    "    nearest_neighbors = calculate_nearest_neighbours(source_vector, model, k=10, cosine=True, dot=False)\n",
    "    print(f\"\\nNearest neighbors for '{word}':\")\n",
    "    for similarity, neighbor_word in nearest_neighbors:\n",
    "        print(f\"{neighbor_word}: {similarity}\")\n",
    "\n",
    "# Dot Product Similarity\n",
    "print('\\nDot product similarity metrics')  \n",
    "for word, source_vector in zip(source_words, target_vectors):\n",
    "    nearest_neighbors = calculate_nearest_neighbours(source_vector, model, k=10, cosine=False, dot=True)\n",
    "    print(f\"\\nNearest neighbors for '{word}':\")\n",
    "    for similarity, neighbor_word in nearest_neighbors:\n",
    "        print(f\"{neighbor_word}: {similarity}\")"
   ],
   "outputs": [
    {
     "name": "stdout",
     "output_type": "stream",
     "text": [
      "Cosine Similarity metrics\n",
      "\n",
      "Nearest neighbors for 'king':\n",
      "1.0: king\n",
      "0.7138046026229858: kings\n",
      "0.6510958075523376: queen\n",
      "0.6413193941116333: monarch\n",
      "0.6204220056533813: crown_prince\n",
      "0.6159994006156921: prince\n",
      "0.5864823460578918: sultan\n",
      "0.5797569751739502: ruler\n",
      "0.5646551847457886: princes\n",
      "0.5432943105697632: Prince_Paras\n",
      "\n",
      "Nearest neighbors for 'apple':\n",
      "1.0: apple\n",
      "0.7203599214553833: apples\n",
      "0.6450697779655457: pear\n",
      "0.641014814376831: fruit\n",
      "0.6302294135093689: berry\n",
      "0.6133962273597717: pears\n",
      "0.605826199054718: strawberry\n",
      "0.6025873422622681: peach\n",
      "0.596093475818634: potato\n",
      "0.5935866236686707: grape\n",
      "\n",
      "Nearest neighbors for 'run':\n",
      "1.0000001192092896: run\n",
      "0.6569936275482178: runs\n",
      "0.606296718120575: running\n",
      "0.48340505361557007: drive\n",
      "0.476498007774353: ran\n",
      "0.46932128071784973: scamper\n",
      "0.46402236819267273: tworun_double\n",
      "0.4631645679473877: go\n",
      "0.45749351382255554: twoout\n",
      "0.45697981119155884: walk\n",
      "\n",
      "Nearest neighbors for 'blue':\n",
      "1.0000001192092896: blue\n",
      "0.7225175499916077: red\n",
      "0.7134225964546204: purple\n",
      "0.6606029272079468: white\n",
      "0.6557419896125793: maroon\n",
      "0.6422426700592041: colored\n",
      "0.6421892642974854: orange\n",
      "0.6376124024391174: yellow\n",
      "0.6356962323188782: teal\n",
      "0.6343380212783813: pink\n",
      "\n",
      "Nearest neighbors for 'dog':\n",
      "1.0: dog\n",
      "0.8680490851402283: dogs\n",
      "0.8106429576873779: puppy\n",
      "0.7803961634635925: pit_bull\n",
      "0.7627377510070801: pooch\n",
      "0.760945737361908: cat\n",
      "0.7500903606414795: golden_retriever\n",
      "0.7465174198150635: German_shepherd\n",
      "0.7437616586685181: Rottweiler\n",
      "0.741862416267395: beagle\n",
      "\n",
      "Dot product similarity metrics\n",
      "\n",
      "Nearest neighbors for 'king':\n",
      "8.42310619354248: king\n",
      "7.802281379699707: =_Search_permaLink\n",
      "7.336379051208496: paste_outside\n",
      "7.007101058959961: constitutional_monarch\n",
      "6.884746551513672: King_Bhumibol_Adulyadej\n",
      "6.703978538513184: crown_prince\n",
      "6.575969696044922: struggling_dad_budgeting\n",
      "6.483887672424316: monarch\n",
      "6.47995662689209: Gyanendra\n",
      "6.458182334899902: Flag_link\n",
      "\n",
      "Nearest neighbors for 'apple':\n",
      "9.876272201538086: apple\n",
      "9.806775093078613: alerts_delivered\n",
      "9.581897735595703: Daily_Transcript_San_Diego\n",
      "8.690478324890137: Sell_currencies\n",
      "8.543256759643555: eyewitness_accounts_background\n",
      "8.490951538085938: SmartBrief_brings\n",
      "7.949763774871826: Without_JavaScript_enabled\n",
      "7.937246322631836: Sunspot_forum\n",
      "7.622007846832275: sourced_direct\n",
      "7.529646396636963: Honeycrisp\n",
      "\n",
      "Nearest neighbors for 'run':\n",
      "6.680710315704346: 0_errors\n",
      "5.454041004180908: alerts_delivered\n",
      "5.02226448059082: Note_File\n",
      "4.968715667724609: Pinging\n",
      "4.834297180175781: RBI_groundout\n",
      "4.803323745727539: 0_LOB\n",
      "4.802161693572998: sacrifice_fly\n",
      "4.761741638183594: Foul_language_defined\n",
      "4.752890110015869: RBI_single\n",
      "4.666712760925293: ALSO_Video\n",
      "\n",
      "Nearest neighbors for 'blue':\n",
      "7.484352111816406: TxtAlerts_Fayobserver.com_mobile\n",
      "7.189942359924316: Newspapers_below\n",
      "7.189882278442383: PM_Newscast_every\n",
      "6.427049160003662: blue\n",
      "5.861753463745117: validate_breakout\n",
      "5.5769362449646: include_Citibank_CitiFinancial\n",
      "5.462374687194824: Average_Directional_Change_ADX\n",
      "5.439005374908447: maroon\n",
      "5.300979137420654: Zawya_reserves\n",
      "5.227977752685547: burgundy\n",
      "\n",
      "Nearest neighbors for 'dog':\n",
      "9.672971725463867: pit_bull_mix\n",
      "9.357945442199707: pit_bull\n",
      "9.132040977478027: German_shepherd\n",
      "9.11532211303711: black_Labrador_retriever\n",
      "9.007247924804688: pit_bulls\n",
      "8.88709545135498: dog\n",
      "8.815437316894531: shepherd_mix\n",
      "8.746277809143066: Shih_Tzu\n",
      "8.742229461669922: terrier_mix\n",
      "8.663958549499512: border_collie\n"
     ]
    }
   ],
   "execution_count": 8
  },
  {
   "metadata": {},
   "cell_type": "code",
   "outputs": [],
   "execution_count": null,
   "source": ""
  },
  {
   "cell_type": "markdown",
   "metadata": {},
   "source": [
    "<a name=\"section-taskB\"></a><h2 style=\"color:rgb(0,120,170)\">Task B: Document Classification with WE (15 points)</h2>"
   ]
  },
  {
   "cell_type": "markdown",
   "metadata": {},
   "source": [
    "\n",
    "This task follows the same instruction for document classification as provided in Assignment 1. You are indeed free to reuse any part of your code in Assignment 1 for this task. In Assignment 1, the representation of each document was created using a bag of words representation followed by dimensionality reduction. In this task, the document representations are created from the pre-trained word embeddings.\n",
    "\n",
    "**Map word embeddings to dictionary words (5 points).** For every word in the dictionary (as discussed and created in Assignment 1), fetch the corresponding word embedding from the pre-trained model. If no embedding is found, initialize the corresponding word embedding randomly.\n",
    "\n",
    "**Document embedding as the average of word embeddings (5 points).** Using the word embeddings, the representation of each document is defined as the *mean of the vectors of each document's words*. In particular, given the document $d$, consisting of words $\\left[ v_1, v_2, ..., v_{|d|} \\right]$, the document representation $\\mathbf{e}_d$ is defined as:\n",
    "\n",
    "$\\mathbf{e}_d = \\frac{1}{|d|}\\sum_{i=1}^{|d|}{\\mathbf{e}_{v_i}}$\n",
    "\n",
    "where $\\mathbf{e}_{v}$ is the vector of the word $v$, and $|d|$ is the length of the document.\n",
    "\n",
    "**Classification and evaluation (5 points)** Using these new document representations, apply <ins>three classification algorithms</ins> and report the evaluation results (based on accuracy metric) on the test set.\n",
    "\n"
   ]
  },
  {
   "cell_type": "code",
   "execution_count": null,
   "metadata": {},
   "outputs": [],
   "source": []
  },
  {
   "cell_type": "code",
   "execution_count": null,
   "metadata": {},
   "outputs": [],
   "source": []
  },
  {
   "cell_type": "markdown",
   "metadata": {},
   "source": [
    "<a name=\"section-taskC\"></a><h2 style=\"color:rgb(0,120,170)\">Task C: Classification with sent2vec Document Embeddings (2 extra point)</h2>"
   ]
  },
  {
   "cell_type": "markdown",
   "metadata": {},
   "source": [
    "\n",
    "Sent2vec [1] suggests another unsupervised approach to creating document embeddings from the underlying word embeddings. First, using the provided code in the paper, train a sendtvec model on the training set to create document embeddings. Then, repeat Task B while using the document embeddings provided by sent2vec. Similar to Task 2, conduct the classification experiments and report evaluation results.\n",
    "\n",
    "[1] M. Pagliardini, P. Gupta, and M. Jaggi. Unsupervised Learning of Sentence Embeddings using Compositional n-Gram Features. In Proceedings of the conference of the North American Chapter of the Association for Computational Linguistics (NAACL), 2018.\n"
   ]
  },
  {
   "cell_type": "code",
   "execution_count": null,
   "metadata": {},
   "outputs": [],
   "source": []
  },
  {
   "cell_type": "code",
   "execution_count": null,
   "metadata": {},
   "outputs": [],
   "source": []
  }
 ],
 "metadata": {
  "kernelspec": {
   "display_name": "Python (jupyter_projects)",
   "language": "python",
   "name": "jupyter_projects"
  },
  "language_info": {
   "codemirror_mode": {
    "name": "ipython",
    "version": 3
   },
   "file_extension": ".py",
   "mimetype": "text/x-python",
   "name": "python",
   "nbconvert_exporter": "python",
   "pygments_lexer": "ipython3",
   "version": "3.11.10"
  }
 },
 "nbformat": 4,
 "nbformat_minor": 4
}
